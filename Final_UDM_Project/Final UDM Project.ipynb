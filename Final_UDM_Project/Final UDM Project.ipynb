{
 "cells": [
  {
   "cell_type": "markdown",
   "metadata": {},
   "source": [
    "# UDM Final Project \n",
    "*Tobi Adeyefa*\n",
    "## Using open datasets to analyze the impact of green initiatives and projects on Air Quality Index(AQI) in NYC\n",
    "\n",
    "The datasets used in this script are open datasets available through the link provided below. The techniques used in cleaning, filtering, analyzing and visualizing these datasets are mostly those learned in class (10-13).\n",
    "\n",
    "### Sources\n",
    "1. https://catalog.data.gov/dataset/greenstreets-bb8be [Data.gov - GreenStreets]\n",
    "2. https://data.cityofnewyork.us/City-Government/NYC-EV-Fleet-Station-Network/fc53-9hrv [NYCOpenData- Department of Citywide Administrative Services]\n",
    "3. https://catalog.data.gov/dataset/electric-vehicle-population-data [Data.gov - Department of licensing] \n",
    "4. https://www.nyserda.ny.gov/All-Programs/chargeny/support-electric/data-on-electric-vehicles-and-charging-stations [Electric Vehicle (EV) and EV Charging Station Data]\n"
   ]
  },
  {
   "cell_type": "code",
   "execution_count": null,
   "metadata": {},
   "outputs": [],
   "source": [
    "import pandas as pd\n",
    "import geopandas as gpd\n",
    "import numpy as np\n",
    "\n",
    "import matplotlib.pyplot as plt\n",
    "from shapely.geometry import Point\n",
    "from geopandas import GeoDataFrame\n",
    "from shapely.geometry import MultiPolygon"
   ]
  },
  {
   "cell_type": "code",
   "execution_count": null,
   "metadata": {},
   "outputs": [],
   "source": [
    "'''\n",
    "load data into our Jupyter Notebook:\n",
    "- GreenStreet Project\n",
    "- Charging Stations\n",
    "- EV per county\n",
    "- EV fleet station Network\n",
    "- EV Population size\n",
    "'''\n",
    "GreenStreet = pd.read_csv('Greenstreets.csv')\n",
    "ChargingStation = pd.read_csv('Electric_Vehicle_Charging_Stations_in_New_York.csv')\n",
    "CountyEV = pd.read_csv('Electric_Vehicles_per_County.csv')\n",
    "EVNetwork = pd.read_csv('NYC_EV_Fleet_Station_Network.csv')\n",
    "EVPopulation = pd.read_csv('Electric_Vehicle_Population_Size_History.csv')\n",
    "\n",
    "#data frame for commissions in Manhattan\n",
    "Manhattan_data = GreenStreet[GreenStreet['BOROUGH']== 'M']\n",
    "#load geodataframe\n",
    "GS = gpd.read_file('Greenstreets.csv')\n",
    "#data2011 = GS[GS['COMMISSIONDATE']== '2011-12-01 00:00:00.0000000']"
   ]
  },
  {
   "cell_type": "code",
   "execution_count": null,
   "metadata": {},
   "outputs": [],
   "source": [
    "#Manhattan_data\n",
    "#Manhattan.commission_date.sort_values\n",
    "Manhattan_data.sort_values(by='COMMISSIONDATE', ascending=True)"
   ]
  },
  {
   "cell_type": "code",
   "execution_count": null,
   "metadata": {},
   "outputs": [],
   "source": [
    "GS.plot(color='red', legend = False, figsize=(30,10), makersize=0.1)\n",
    "plt.title('GreenStreet Projects in Manhattan')\n",
    "plt.axis('on')\n",
    "plt.show()"
   ]
  },
  {
   "cell_type": "code",
   "execution_count": null,
   "metadata": {},
   "outputs": [],
   "source": [
    "Manhattan_data.ACRES.sum()"
   ]
  },
  {
   "cell_type": "code",
   "execution_count": null,
   "metadata": {},
   "outputs": [],
   "source": [
    "ChargingStation\n",
    "Manhattan_charging = ChargingStation[ChargingStation['City']== 'New York']\n",
    "Manhattan_charging\n",
    "print(f\"number of charging stations in New York County as of 2022 is {Manhattan_charging.shape[0]} \\n\")\n",
    "print(f'These charging stations are a part of the following EV Network {Manhattan_charging.EV_Network.unique()}')"
   ]
  },
  {
   "cell_type": "code",
   "execution_count": null,
   "metadata": {},
   "outputs": [],
   "source": [
    "EVNetwork"
   ]
  },
  {
   "cell_type": "code",
   "execution_count": null,
   "metadata": {},
   "outputs": [],
   "source": [
    "#Registered EVs in all Counties data\n",
    "CountyEV\n",
    "#Filter EVs in New York County, i.e Manhattan\n",
    "Manhattan_EV = CountyEV[CountyEV['County']== 'NEW YORK']\n",
    "Manhattan_EV"
   ]
  },
  {
   "cell_type": "code",
   "execution_count": null,
   "metadata": {},
   "outputs": [],
   "source": [
    "Average_EV_per_year = EVpopulation.EVTotal.sum()/10"
   ]
  }
 ],
 "metadata": {
  "kernelspec": {
   "display_name": "Python 3",
   "language": "python",
   "name": "python3"
  },
  "language_info": {
   "codemirror_mode": {
    "name": "ipython",
    "version": 3
   },
   "file_extension": ".py",
   "mimetype": "text/x-python",
   "name": "python",
   "nbconvert_exporter": "python",
   "pygments_lexer": "ipython3",
   "version": "3.8.5"
  }
 },
 "nbformat": 4,
 "nbformat_minor": 4
}
